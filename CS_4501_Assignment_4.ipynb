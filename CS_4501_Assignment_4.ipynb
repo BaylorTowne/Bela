{
  "nbformat": 4,
  "nbformat_minor": 0,
  "metadata": {
    "colab": {
      "name": "CS 4501 Assignment 4.ipynb",
      "version": "0.3.2",
      "provenance": [],
      "collapsed_sections": [],
      "include_colab_link": true
    },
    "kernelspec": {
      "display_name": "Python 3",
      "language": "python",
      "name": "python3"
    }
  },
  "cells": [
    {
      "cell_type": "markdown",
      "metadata": {
        "id": "view-in-github",
        "colab_type": "text"
      },
      "source": [
        "<a href=\"https://colab.research.google.com/github/BaylorTowne/Bela/blob/master/CS_4501_Assignment_4.ipynb\" target=\"_parent\"><img src=\"https://colab.research.google.com/assets/colab-badge.svg\" alt=\"Open In Colab\"/></a>"
      ]
    },
    {
      "metadata": {
        "id": "-40VPC7MAGGB",
        "colab_type": "text"
      },
      "cell_type": "markdown",
      "source": [
        "# Assignment 4: Benchmarking Fashion-MNIST with Deep Neural Nets"
      ]
    },
    {
      "metadata": {
        "id": "piFzh10hAGGE",
        "colab_type": "text"
      },
      "cell_type": "markdown",
      "source": [
        "### CS 4501 Machine Learning - Department of Computer Science - University of Virginia\n",
        "\"The original MNIST dataset contains a lot of handwritten digits. Members of the AI/ML/Data Science community love this dataset and use it as a benchmark to validate their algorithms. In fact, MNIST is often the first dataset researchers try. \"If it doesn't work on MNIST, it won't work at all\", they said. \"Well, if it does work on MNIST, it may still fail on others.\" - **Zalando Research, Github Repo.**\"\n",
        "\n",
        "Fashion-MNIST is a dataset from the Zalando's article. Each example is a 28x28 grayscale image, associated with a label from 10 classes. They intend Fashion-MNIST to serve as a direct drop-in replacement for the original MNIST dataset for benchmarking machine learning algorithms.\n",
        "\n",
        "![Here's an example how the data looks (each class takes three-rows):](https://github.com/zalandoresearch/fashion-mnist/raw/master/doc/img/fashion-mnist-sprite.png)\n",
        "\n",
        "In this assignment, you will attempt to benchmark the Fashion-MNIST using Neural Networks. You must use it to train some neural networks on TensorFlow and predict the final output of 10 classes. For deliverables, you must write code in Python and submit this Jupyter Notebook file (.ipynb) to earn a total of 100 pts. You will gain points depending on how you perform in the following sections.\n"
      ]
    },
    {
      "metadata": {
        "id": "469YvvIzAGGJ",
        "colab_type": "code",
        "colab": {}
      },
      "cell_type": "code",
      "source": [
        "# You might want to use the following packages\n",
        "import numpy as np\n",
        "import os\n",
        "import tensorflow as tf\n",
        "tf.logging.set_verbosity(tf.logging.ERROR) #reduce annoying warning messages\n",
        "from functools import partial\n",
        "\n",
        "# to make this notebook's output stable across runs\n",
        "def reset_graph(seed=42):\n",
        "    tf.reset_default_graph()\n",
        "    tf.set_random_seed(seed)\n",
        "    np.random.seed(seed)\n"
      ],
      "execution_count": 0,
      "outputs": []
    },
    {
      "metadata": {
        "id": "t-PtpH4xAGGG",
        "colab_type": "text"
      },
      "cell_type": "markdown",
      "source": [
        "---\n",
        "## 1. PRE-PROCESSING THE DATA (10 pts)\n",
        "\n",
        "You can load the Fashion MNIST directly from Tensorflow. **Partition of the dataset** so that you will have 50,000 examples for training, 10,000 examples for validation, and 10,000 examples for testing. Also, make sure that you platten out each of examples so that it contains only a 1-D feature vector.\n",
        "\n",
        "Write some code to output the dimensionalities of each partition (train, validation, and test sets).\n",
        "\n"
      ]
    },
    {
      "metadata": {
        "id": "Z2-Ilkesfm7Z",
        "colab_type": "code",
        "colab": {}
      },
      "cell_type": "code",
      "source": [
        "# Your code goes here for this section.\n",
        "fmnist = tf.keras.datasets.fashion_mnist.load_data();\n"
      ],
      "execution_count": 0,
      "outputs": []
    },
    {
      "metadata": {
        "id": "Na4CpxLBAGGP",
        "colab_type": "text"
      },
      "cell_type": "markdown",
      "source": [
        "- - -\n",
        "## 2. CONSTRUCTION PHASE (30 pts)\n",
        "\n",
        "In this section, define at least three neural networks with different structures. Make sure that the input layer has the right number of inputs. The best structure often is found through a process of trial and error experimentation:\n",
        "- You may start with a fully connected network structure with two hidden layers.\n",
        "- You may try a few settings of the number of nodes in each layer.\n",
        "- You may try a few activation functions to see if they affect the performance.\n",
        "\n",
        "**Important Implementation Note:** For the purpose of learning Tensorflow, you must use low-level TensorFlow API to construct the network. Usage of high-level tools (ie. Keras) is not permited. "
      ]
    },
    {
      "metadata": {
        "id": "bIJrHPVlAGGQ",
        "colab_type": "code",
        "colab": {}
      },
      "cell_type": "code",
      "source": [
        "# Your code goes here\n",
        "reset_graph()\n",
        "\n",
        "# Set some configuration here\n",
        "n_inputs = 28*28  # Fashion-MNIST\n",
        "learning_rate = 0.01\n",
        "n_outputs = 10\n",
        "\n",
        "# Construct placeholder for the input layer\n",
        "X = tf.placeholder(tf.float32, shape=(None, n_inputs), name=\"X\")\n",
        "y = tf.placeholder(tf.int32, shape=(None), name=\"y\")"
      ],
      "execution_count": 0,
      "outputs": []
    },
    {
      "metadata": {
        "id": "iDrFp7KKils6",
        "colab_type": "code",
        "colab": {}
      },
      "cell_type": "code",
      "source": [
        "with tf.name_scope(\"dnn1\"):\n",
        "  #implementation of the first net here"
      ],
      "execution_count": 0,
      "outputs": []
    },
    {
      "metadata": {
        "id": "luyNllyVkNxr",
        "colab_type": "code",
        "colab": {}
      },
      "cell_type": "code",
      "source": [
        "with tf.name_scope(\"dnn2\"):\n",
        "  #implementation of the second net here"
      ],
      "execution_count": 0,
      "outputs": []
    },
    {
      "metadata": {
        "id": "JuvjZeJekP4-",
        "colab_type": "code",
        "colab": {}
      },
      "cell_type": "code",
      "source": [
        "with tf.name_scope(\"dnn3\"):\n",
        "  #implementation of the third net here"
      ],
      "execution_count": 0,
      "outputs": []
    },
    {
      "metadata": {
        "id": "_mQCboA8ijWK",
        "colab_type": "code",
        "colab": {}
      },
      "cell_type": "code",
      "source": [
        "with tf.name_scope(\"loss\"):\n",
        "#implementation of the loss function net here"
      ],
      "execution_count": 0,
      "outputs": []
    },
    {
      "metadata": {
        "id": "GL_cXX09ih12",
        "colab_type": "code",
        "colab": {}
      },
      "cell_type": "code",
      "source": [
        "with tf.name_scope(\"train\"):\n",
        "  #implementation of the training optimizer here"
      ],
      "execution_count": 0,
      "outputs": []
    },
    {
      "metadata": {
        "id": "EfKWL5IZigJg",
        "colab_type": "code",
        "colab": {}
      },
      "cell_type": "code",
      "source": [
        "with tf.name_scope(\"eval\"):\n",
        "  #implementation of the evaluation procedure here"
      ],
      "execution_count": 0,
      "outputs": []
    },
    {
      "metadata": {
        "id": "SKcVSGXOAGGT",
        "colab_type": "text"
      },
      "cell_type": "markdown",
      "source": [
        "- - -\n",
        "## 3. EXECUTION PHASE (30 pts)\n",
        "\n",
        "After you construct the three models of neural networks, you can compute the performance measure as the class accuracy. You will need to define the number of epochs and size of the training batch. You also might need to reset the graph each time your try a different model. To save time and avoid retraining, you should save the trained model and load it from disk to evaluate a test set. Pick the best model and answer the following:\n",
        "- Which model yields the best performance measure for your dataset? Provide a reason why it yields the best performance.\n",
        "- Why did you pick this many hidden layers?\n",
        "- Provide some justifiable reasons for selecting the number of neurons per hidden layers. \n",
        "- Which activation functions did you use?\n",
        "\n",
        "In the next session you will get a chance to finetune it further .\n",
        "\n"
      ]
    },
    {
      "metadata": {
        "id": "NGDKdeZzAGGV",
        "colab_type": "code",
        "colab": {}
      },
      "cell_type": "code",
      "source": [
        "# Your code goes here\n",
        "init = tf.global_variables_initializer()\n",
        "saver = tf.train.Saver()\n",
        "\n",
        "#n_epochs = \n",
        "#batch_size = \n",
        "\n",
        "# shuffle_batch() shuffle the examples in a batch before training\n",
        "def shuffle_batch(X, y, batch_size):\n",
        "    rnd_idx = np.random.permutation(len(X))\n",
        "    n_batches = len(X) // batch_size\n",
        "    for batch_idx in np.array_split(rnd_idx, n_batches):\n",
        "        X_batch, y_batch = X[batch_idx], y[batch_idx]\n",
        "        yield X_batch, y_batch\n"
      ],
      "execution_count": 0,
      "outputs": []
    },
    {
      "metadata": {
        "id": "MKMqf1gijPwW",
        "colab_type": "code",
        "colab": {}
      },
      "cell_type": "code",
      "source": [
        "with tf.Session() as sess:\n",
        "  init.run()\n",
        "  for epoch in range(n_epochs):\n",
        "    # implementation of the training ops here\n",
        "    # implementation of the validation accuracy here\n",
        "    \n",
        "  save_path = saver.save(sess, \"./my_dnn_model.ckpt\")"
      ],
      "execution_count": 0,
      "outputs": []
    },
    {
      "metadata": {
        "id": "lFPM62nDjncP",
        "colab_type": "code",
        "colab": {}
      },
      "cell_type": "code",
      "source": [
        "with tf.Session() as sess:\n",
        "    saver.restore(sess, \"./my_dnn_model.ckpt\")\n",
        "    # implementation of the test set evaluation here"
      ],
      "execution_count": 0,
      "outputs": []
    },
    {
      "metadata": {
        "id": "snnavcm0urN8",
        "colab_type": "code",
        "colab": {}
      },
      "cell_type": "code",
      "source": [
        "# print out the final accuracy here"
      ],
      "execution_count": 0,
      "outputs": []
    },
    {
      "metadata": {
        "id": "-s2zv1SrAGGY",
        "colab_type": "text"
      },
      "cell_type": "markdown",
      "source": [
        "- - -\n",
        "## 4. FINETUNING THE NETWORK (25 pts)\n",
        "\n",
        "The best performance on the Fashion MNIST of a non-neural-net classifier is the Support Vector Classifier {\"C\":10,\"kernel\":\"poly\"} with 0.897 accuracy. In this section, you will see how close you can get to that accuracy, or (better yet) beat it! You will be able to see the performance of other ML methods below:\n",
        "http://fashion-mnist.s3-website.eu-central-1.amazonaws.com\n",
        "\n",
        "Use the best model from the previous section and see if you can improve it further. To improve the performance of your model, You must make some modifications based upon the practical guidelines discuss in class. Here are a few decisions about the recommended network configurations you have to make:\n",
        "1. Initialization: Use He Initialization for your model\n",
        "2. Activation: Add ELU as the activation function throughout your hidden layers\n",
        "3. Normalization: Incorporate the batch normalization at every layer\n",
        "4. Regularization: Configure the dropout policy at 50% rate\n",
        "5. Optimization: Change Gradient Descent into Adam Optimization\n",
        "6. Your choice: make any other changes in 1-5 you deem necessary\n",
        "\n",
        "Keep in mind that the execution phase is essentially the same, so you can just run it from the above. See how much you gain in classification accuracy. Provide some justifications for the gain in performance. \n",
        "\n",
        "\n",
        "\n",
        "\n"
      ]
    },
    {
      "metadata": {
        "id": "hjDXZ5ws6Zpx",
        "colab_type": "code",
        "colab": {}
      },
      "cell_type": "code",
      "source": [
        "with tf.name_scope(\"dnnBenchmark\"):\n",
        "  # implementation of the new benchmarking DNN here"
      ],
      "execution_count": 0,
      "outputs": []
    },
    {
      "metadata": {
        "id": "04jsbI9TAGGY",
        "colab_type": "text"
      },
      "cell_type": "markdown",
      "source": [
        "- - -\n",
        "## 5. OUTLOOK (5 pts)\n",
        "\n",
        "Plan for the outlook of your system: This may lead to the direction of your future project:\n",
        "- Did your neural network outperform other \"traditional ML technique? Why/why not?\n",
        "- Does your model work well? If not, which model should be further investigated?\n",
        "- Do you satisfy with your system? What do you think needed to improve?\n",
        "\n"
      ]
    },
    {
      "metadata": {
        "id": "zS9PKaL4AGGZ",
        "colab_type": "text"
      },
      "cell_type": "markdown",
      "source": [
        "- - - \n",
        "### NEED HELP?"
      ]
    },
    {
      "metadata": {
        "id": "T0vuIEBDAGGa",
        "colab_type": "text"
      },
      "cell_type": "markdown",
      "source": [
        "In case you get stuck in any step in the process, you may find some useful information from:\n",
        "\n",
        " * Consult my lectures and/or the textbook\n",
        " * Talk to the TA, they are available and there to help you during OH\n",
        " * Come talk to me or email me <nn4pj@virginia.edu> with subject starting \"CS4501 Assignment 4:...\".\n",
        " * More on the Fashion-MNIST to be found here: https://hanxiao.github.io/2018/09/28/Fashion-MNIST-Year-In-Review/\n",
        "\n",
        "Best of luck and have fun!"
      ]
    },
    {
      "metadata": {
        "id": "cH_mulWEAGGb",
        "colab_type": "code",
        "colab": {}
      },
      "cell_type": "code",
      "source": [
        ""
      ],
      "execution_count": 0,
      "outputs": []
    }
  ]
}